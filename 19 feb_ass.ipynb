{
 "cells": [
  {
   "cell_type": "code",
   "execution_count": null,
   "id": "88abb1a9-5b55-4d10-a3cc-1a28084df481",
   "metadata": {},
   "outputs": [],
   "source": [
    "Q1. What is Flask Framework? What are the advantages of Flask Framework?"
   ]
  },
  {
   "cell_type": "code",
   "execution_count": null,
   "id": "e62e83f5-8a77-460e-a46b-6677ee1ef325",
   "metadata": {},
   "outputs": [],
   "source": [
    "\n",
    "Flask is a web framework for building web applications in Python. It is considered a microframework because it provides only the essential features\n",
    "needed to build web applications while keeping the core simple and lightweight. Flask follows the principle of simplicity and gives developers the \n",
    "flexibility to customize and choose the components they need for their specific project requirements.\n",
    "\n",
    "Advantages of Flask Framework:\n",
    "\n",
    "Simplicity: Flask has a straightforward and intuitive design, making it easy to learn and use. Its simplicity allows developers to focus on writing \n",
    "the application logic rather than dealing with complex configurations or unnecessary features. This makes Flask an excellent choice for small to\n",
    "medium-sized projects or developers who prefer a minimalistic approach.\n",
    "\n",
    "Flexibility: Flask offers a high level of flexibility, allowing developers to structure their applications according to their needs. It does not \n",
    "enforce a rigid project structure or dictate the use of specific components. Developers have the freedom to choose the libraries, tools, and design\n",
    "patterns that best suit their project requirements.\n",
    "\n",
    "Modularity: Flask follows a modular design, meaning it is composed of small, reusable components. This modularity allows developers to easily add or\n",
    "remove features through various Flask extensions. Flask has a rich ecosystem of extensions that provide additional functionality such as database \n",
    "integration, form handling, authentication, and more.\n",
    "\n",
    "Integration: Flask seamlessly integrates with other libraries and technologies in the Python ecosystem. It works well with popular tools and \n",
    "frameworks, allowing developers to leverage existing resources and take advantage of the vast Python ecosystem. This integration capability enhances\n",
    "Flask's extensibility and makes it adaptable to different project needs.\n",
    "\n",
    "Testing: Flask provides a testing framework that simplifies the process of writing and running tests for your web applications. It supports unit \n",
    "testing and allows for easy integration with popular testing tools and frameworks. The simplicity of Flask makes it easier to write testable code \n",
    "and conduct thorough testing.\n",
    "\n",
    "Development server: Flask comes with a built-in development server, which allows developers to quickly test and run their applications without the \n",
    "need for a separate server setup. This feature facilitates rapid development and simplifies the debugging process.\n",
    "\n",
    "Documentation and Community: Flask has excellent documentation that is clear, comprehensive, and beginner-friendly. The Flask community is active\n",
    "and supportive, offering resources, tutorials, and plugins/extensions to enhance the framework. The availability of a vibrant community ensures that \n",
    "developers can find help and guidance when needed.\n"
   ]
  },
  {
   "cell_type": "code",
   "execution_count": null,
   "id": "b128a9f3-d255-4fe6-be28-d9f086068561",
   "metadata": {},
   "outputs": [],
   "source": [
    "Q2. Create a simple Flask application to display ‘Hello World!!’. Attach the screenshot of the output in\n",
    "Jupyter Notebook."
   ]
  },
  {
   "cell_type": "code",
   "execution_count": null,
   "id": "74126464-c198-4bfe-ab12-479e61d95e9d",
   "metadata": {},
   "outputs": [],
   "source": [
    "Q3. What is App routing in Flask? Why do we use app routes?"
   ]
  },
  {
   "cell_type": "code",
   "execution_count": null,
   "id": "d2565894-bd87-4481-a12b-799329c9f808",
   "metadata": {},
   "outputs": [],
   "source": [
    "App routing in Flask refers to the process of defining URL routes in your Flask application. It involves mapping specific URLs to corresponding\n",
    "Python functions that handle the request and generate a response.\n",
    "\n",
    "In Flask, the @app.route() decorator is used to define routes. The decorator takes the URL pattern as an argument and associates it with a specific\n",
    "function. When a user accesses a URL that matches the defined pattern, Flask invokes the associated function to handle the request.\n",
    "\n",
    "some reasons why we use app routes in Flask include:\n",
    "\n",
    "URL Mapping: App routes provide a convenient way to map URLs to corresponding functions, making it easy to define the behavior of different URLs in \n",
    "your application.\n",
    "Request Handling: App routes allow you to handle different types of HTTP requests (e.g., GET, POST, PUT, DELETE) for specific URLs. This enables you \n",
    "to implement different actions or operations based on the type of request received.\n",
    "Page Rendering: App routes can be used to generate dynamic HTML pages or templates based on the requested URL. By associating a route with a function \n",
    "that renders a specific HTML template, you can create dynamic and personalized pages.\n",
    "API Endpoints: App routes are commonly used to define API endpoints. By associating a route with a function that returns data in a specific format\n",
    "(e.g., JSON), you can create RESTful APIs that respond to different URLs with the appropriate data.\n",
    "URL Parameters: App routes support the use of URL parameters, allowing you to extract dynamic values from the URL and pass them as arguments to the\n",
    "associated function. This enables you to create flexible routes that can handle varying data or parameters."
   ]
  },
  {
   "cell_type": "code",
   "execution_count": null,
   "id": "90406842-2fc6-4c92-87c4-4fe673f14984",
   "metadata": {},
   "outputs": [],
   "source": [
    "Q4. Create a “/welcome” route to display the welcome message “Welcome to ABC Corporation” and a “/”\n",
    "route to show the following details:\n",
    "Company Name: ABC Corporation\n",
    "Location: India\n",
    "Contact Detail: 999-999-9999\n",
    "Attach the screenshot of the output in Jupyter Notebook."
   ]
  },
  {
   "cell_type": "code",
   "execution_count": null,
   "id": "463b153c-0d4a-4d63-a488-fc05a22c1459",
   "metadata": {},
   "outputs": [],
   "source": [
    "from flask import Flask\n",
    "\n",
    "app = Flask(__name__)\n",
    "\n",
    "@app.route('/welcome')\n",
    "def welcome():\n",
    "    return 'Welcome to ABC Corporation'\n",
    "\n",
    "@app.route('/')\n",
    "def details():\n",
    "    return \"Company Name: ABC Corporation\n",
    "              Location: India\n",
    "              Contact Detail: 999-999-9999\"\n",
    "\n",
    "if __name__ == '__main__':\n",
    "    app.run()\n"
   ]
  },
  {
   "cell_type": "code",
   "execution_count": null,
   "id": "23efbf6b-aab6-4988-859f-bbc15f5ea6d8",
   "metadata": {},
   "outputs": [],
   "source": [
    "Q5. What function is used in Flask for URL Building? Write a Python code to demonstrate the working of the\n",
    "url_for() function."
   ]
  },
  {
   "cell_type": "code",
   "execution_count": null,
   "id": "822ee6a8-d5b2-4f0e-b5b5-2f3cf2a9cafb",
   "metadata": {},
   "outputs": [],
   "source": [
    "In Flask, the url_for() function is used for URL building. It is a built-in function that helps generate a URL for a given endpoint (function)\n",
    "in your application. It takes the endpoint name as an argument and can also accept additional parameters to build dynamic URLs.\n"
   ]
  },
  {
   "cell_type": "code",
   "execution_count": null,
   "id": "e2683ed3-54fe-4042-9669-a5785550b6f0",
   "metadata": {},
   "outputs": [],
   "source": [
    "from flask import Flask, url_for\n",
    "\n",
    "app = Flask(__name__)\n",
    "\n",
    "@app.route('/')\n",
    "def index():\n",
    "    return 'Welcome to the homepage!'\n",
    "\n",
    "@app.route('/user/<username>')\n",
    "def profile(username):\n",
    "    return f'Profile page of {username}'\n",
    "\n",
    "@app.route('/blog/<int:post_id>')\n",
    "def blog(post_id):\n",
    "    return f'Blog post {post_id}'\n",
    "\n",
    "if __name__ == '__main__':\n",
    "    with app.test_request_context():\n",
    "        # Generate URL for the index endpoint\n",
    "        index_url = url_for('index')\n",
    "        print('Index URL:', index_url)\n",
    "\n",
    "        # Generate URL for the profile endpoint with a dynamic username parameter\n",
    "        profile_url = url_for('profile', username='John')\n",
    "        print('Profile URL:', profile_url)\n",
    "\n",
    "        # Generate URL for the blog endpoint with a dynamic post_id parameter\n",
    "        blog_url = url_for('blog', post_id=123)\n",
    "        print('Blog URL:', blog_url)\n"
   ]
  }
 ],
 "metadata": {
  "kernelspec": {
   "display_name": "Python 3 (ipykernel)",
   "language": "python",
   "name": "python3"
  },
  "language_info": {
   "codemirror_mode": {
    "name": "ipython",
    "version": 3
   },
   "file_extension": ".py",
   "mimetype": "text/x-python",
   "name": "python",
   "nbconvert_exporter": "python",
   "pygments_lexer": "ipython3",
   "version": "3.10.8"
  }
 },
 "nbformat": 4,
 "nbformat_minor": 5
}
